{
 "cells": [
  {
   "cell_type": "code",
   "execution_count": 55,
   "metadata": {},
   "outputs": [
    {
     "name": "stdout",
     "output_type": "stream",
     "text": [
      "The autoreload extension is already loaded. To reload it, use:\n",
      "  %reload_ext autoreload\n"
     ]
    }
   ],
   "source": [
    "%load_ext autoreload\n",
    "%autoreload 2\n",
    "\n",
    "import sys\n",
    "sys.dont_write_bytecode = True\n",
    "\n",
    "import warnings\n",
    "warnings.filterwarnings('ignore')"
   ]
  },
  {
   "cell_type": "code",
   "execution_count": 56,
   "metadata": {},
   "outputs": [
    {
     "ename": "ModuleNotFoundError",
     "evalue": "No module named 'matplotlib.finance'",
     "output_type": "error",
     "traceback": [
      "\u001b[0;31m---------------------------------------------------------------------------\u001b[0m",
      "\u001b[0;31mModuleNotFoundError\u001b[0m                       Traceback (most recent call last)",
      "\u001b[0;32m<ipython-input-56-2817ca0da20f>\u001b[0m in \u001b[0;36m<module>\u001b[0;34m\u001b[0m\n\u001b[1;32m     13\u001b[0m \u001b[0;32mimport\u001b[0m \u001b[0mmatplotlib\u001b[0m\u001b[0;34m.\u001b[0m\u001b[0mpyplot\u001b[0m \u001b[0;32mas\u001b[0m \u001b[0mplt\u001b[0m\u001b[0;34m\u001b[0m\u001b[0;34m\u001b[0m\u001b[0m\n\u001b[1;32m     14\u001b[0m \u001b[0;32mimport\u001b[0m \u001b[0mmatplotlib\u001b[0m\u001b[0;34m.\u001b[0m\u001b[0mdates\u001b[0m \u001b[0;32mas\u001b[0m \u001b[0mmpl_dates\u001b[0m\u001b[0;34m\u001b[0m\u001b[0;34m\u001b[0m\u001b[0m\n\u001b[0;32m---> 15\u001b[0;31m \u001b[0;32mfrom\u001b[0m \u001b[0mmatplotlib\u001b[0m\u001b[0;34m.\u001b[0m\u001b[0mfinance\u001b[0m \u001b[0;32mimport\u001b[0m \u001b[0mcandlestick_ohlc\u001b[0m\u001b[0;34m\u001b[0m\u001b[0;34m\u001b[0m\u001b[0m\n\u001b[0m\u001b[1;32m     16\u001b[0m \u001b[0;34m\u001b[0m\u001b[0m\n\u001b[1;32m     17\u001b[0m \u001b[0;32mimport\u001b[0m \u001b[0mwarnings\u001b[0m\u001b[0;34m\u001b[0m\u001b[0;34m\u001b[0m\u001b[0m\n",
      "\u001b[0;31mModuleNotFoundError\u001b[0m: No module named 'matplotlib.finance'"
     ]
    }
   ],
   "source": [
    "#imports\n",
    "import os\n",
    "import yaml\n",
    "import json\n",
    "\n",
    "import pandas as pd\n",
    "import numpy as np\n",
    "\n",
    "from sklearn.model_selection import train_test_split\n",
    "from sklearn.metrics import f1_score,roc_auc_score\n",
    "from catboost import CatBoostClassifier\n",
    "\n",
    "import matplotlib.pyplot as plt\n",
    "import matplotlib.dates as mpl_dates\n",
    "from matplotlib.finance import candlestick_ohlc\n",
    "\n",
    "import warnings\n",
    "warnings.filterwarnings('ignore')\n",
    "\n",
    "from callables import parse_json\n",
    "from callables import process_data\n",
    "from callables import generate_features\n",
    "from callables import select_features\n",
    "\n",
    "from utils import plot_roc_curve\n",
    "from utils import find_max_fscore \n",
    "from utils import plot_confusion_matrix\n",
    "from utils import plot_feature_importnaces\n",
    "from utils import plot_candletick_anomaly"
   ]
  },
  {
   "cell_type": "code",
   "execution_count": 3,
   "metadata": {},
   "outputs": [],
   "source": [
    "#params\n",
    "\n",
    "filepath_input = '/Users/cotangentofzero/Data_science/trading_project/data/raw_data/'\n",
    "\n",
    "shift_b = 18\n",
    "shift_f = 7\n",
    "anomaly_crtiretion = 1.0050\n",
    "\n",
    "cb_params = {\n",
    "    'iterations': 300,\n",
    "    'learning_rate': 0.03,\n",
    "    'depth': 5,\n",
    "    'l2_leaf_reg': 2,\n",
    "    'rsm': 0.7,\n",
    "    'verbose': False,\n",
    "    'allow_writing_files': False,\n",
    "    'random_state': 42\n",
    "}"
   ]
  },
  {
   "cell_type": "code",
   "execution_count": 44,
   "metadata": {},
   "outputs": [],
   "source": [
    "#training sample\n",
    "df = parse_json(filepath_input)\n",
    "df = process_data(df)\n",
    "df = generate_features(df,shift_b,shift_f,anomaly_crtiretion)\n",
    "df_event,df_model = select_features(df)"
   ]
  },
  {
   "cell_type": "code",
   "execution_count": 45,
   "metadata": {},
   "outputs": [
    {
     "data": {
      "text/html": [
       "<div>\n",
       "<style scoped>\n",
       "    .dataframe tbody tr th:only-of-type {\n",
       "        vertical-align: middle;\n",
       "    }\n",
       "\n",
       "    .dataframe tbody tr th {\n",
       "        vertical-align: top;\n",
       "    }\n",
       "\n",
       "    .dataframe thead th {\n",
       "        text-align: right;\n",
       "    }\n",
       "</style>\n",
       "<table border=\"1\" class=\"dataframe\">\n",
       "  <thead>\n",
       "    <tr style=\"text-align: right;\">\n",
       "      <th></th>\n",
       "      <th>f_score_train</th>\n",
       "      <th>f_score_test</th>\n",
       "    </tr>\n",
       "  </thead>\n",
       "  <tbody>\n",
       "    <tr>\n",
       "      <th>0</th>\n",
       "      <td>19.73</td>\n",
       "      <td>9.75</td>\n",
       "    </tr>\n",
       "  </tbody>\n",
       "</table>\n",
       "</div>"
      ],
      "text/plain": [
       "   f_score_train  f_score_test\n",
       "0          19.73          9.75"
      ]
     },
     "metadata": {},
     "output_type": "display_data"
    }
   ],
   "source": [
    "#split\n",
    "train, test = train_test_split(df_model, test_size = 0.2, random_state = 42, shuffle = False)\n",
    "\n",
    "x_train = train.drop('target', axis = 1)\n",
    "y_train = train.target.astype(int)\n",
    "\n",
    "x_test = test.drop('target', axis = 1)\n",
    "y_test = test.target.astype(int)\n",
    "\n",
    "#fit best model\n",
    "model = CatBoostClassifier(**cb_params)\n",
    "model.fit(x_train, y_train)\n",
    "\n",
    "# predict train probabilities\n",
    "y_train_pred_proba = model.predict_proba(x_train)\n",
    "y_train_pred_proba = y_train_pred_proba[:, 1]\n",
    "\n",
    "# predict test probabilities\n",
    "y_test_pred_proba = model.predict_proba(x_test)\n",
    "y_test_pred_proba = y_test_pred_proba[:, 1]\n",
    "\n",
    "#plot_find_max_fscore\n",
    "opt_cutoff = find_max_fscore(y_test, y_test_pred_proba)\n",
    "\n",
    "#calculate metrics\n",
    "f_score_train = round(100*f1_score(y_train, (y_train_pred_proba > opt_cutoff), pos_label=1, average='binary'),2)\n",
    "f_score_test  = round(100*f1_score(y_test , (y_test_pred_proba  > opt_cutoff), pos_label=1, average='binary'),2)\n",
    "\n",
    "metrics_df = pd.DataFrame({'f_score_train':[f_score_train],\n",
    "                           'f_score_test':[f_score_test]})\n",
    "\n",
    "display(metrics_df)"
   ]
  },
  {
   "cell_type": "code",
   "execution_count": 46,
   "metadata": {},
   "outputs": [
    {
     "data": {
      "image/png": "[encoded data removed]",
      "text/plain": [
       "<Figure size 432x288 with 1 Axes>"
      ]
     },
     "metadata": {
      "needs_background": "light"
     },
     "output_type": "display_data"
    },
    {
     "data": {
      "image/png": "[encoded data removed]",
      "text/plain": [
       "<Figure size 576x360 with 1 Axes>"
      ]
     },
     "metadata": {
      "needs_background": "light"
     },
     "output_type": "display_data"
    },
    {
     "data": {
      "image/png": "[encoded data removed]",
      "text/plain": [
       "<Figure size 432x288 with 1 Axes>"
      ]
     },
     "metadata": {
      "needs_background": "light"
     },
     "output_type": "display_data"
    }
   ],
   "source": [
    "# plot roc curve\n",
    "plot_roc_curve(y_test, y_test_pred_proba)\n",
    "\n",
    "#plot_confusion_matrix\n",
    "plot_confusion_matrix(y_test, y_test_pred_proba, opt_cutoff)\n",
    "\n",
    "#plot_feature_importances\n",
    "plot_feature_importnaces(model,x_train, top = 20)"
   ]
  },
  {
   "cell_type": "markdown",
   "metadata": {},
   "source": [
    "### Test"
   ]
  },
  {
   "cell_type": "code",
   "execution_count": 47,
   "metadata": {},
   "outputs": [],
   "source": [
    "df_check = df_event[test.index[0]:]\n",
    "df_check = df_check.drop('target', axis = 1)\n",
    "df_check['true'] = y_test\n",
    "df_check['predicted'] = (y_test_pred_proba  > opt_cutoff).astype(int)\n",
    "\n",
    "#plot_candletick_anomaly(df_check)"
   ]
  },
  {
   "cell_type": "code",
   "execution_count": 54,
   "metadata": {},
   "outputs": [],
   "source": []
  },
  {
   "cell_type": "code",
   "execution_count": null,
   "metadata": {},
   "outputs": [],
   "source": []
  },
  {
   "cell_type": "code",
   "execution_count": null,
   "metadata": {},
   "outputs": [],
   "source": []
  },
  {
   "cell_type": "code",
   "execution_count": null,
   "metadata": {},
   "outputs": [],
   "source": []
  },
  {
   "cell_type": "markdown",
   "metadata": {},
   "source": [
    "### Train"
   ]
  },
  {
   "cell_type": "code",
   "execution_count": 31,
   "metadata": {},
   "outputs": [],
   "source": [
    "df_check = df_event[train.index[0]:]\n",
    "df_check = df_check.drop('target', axis = 1)"
   ]
  },
  {
   "cell_type": "code",
   "execution_count": 45,
   "metadata": {},
   "outputs": [],
   "source": [
    "df_check = df_event[:train.index[-1]+1]\n",
    "df_check = df_check.drop('target', axis = 1)\n",
    "\n",
    "df_check['true'] = y_train\n",
    "df_check['predicted'] = y_train_pred_proba  > opt_cutoff\n",
    "\n",
    "#plot_candletick_anomaly(df_check)"
   ]
  }
 ],
 "metadata": {
  "interpreter": {
   "hash": "7110a528a63985f6b9596e7354dc1878844b94302108c169d129701b7db47e22"
  },
  "kernelspec": {
   "display_name": "Python 3",
   "language": "python",
   "name": "python3"
  },
  "language_info": {
   "codemirror_mode": {
    "name": "ipython",
    "version": 3
   },
   "file_extension": ".py",
   "mimetype": "text/x-python",
   "name": "python",
   "nbconvert_exporter": "python",
   "pygments_lexer": "ipython3",
   "version": "3.8.5"
  }
 },
 "nbformat": 4,
 "nbformat_minor": 4
}
