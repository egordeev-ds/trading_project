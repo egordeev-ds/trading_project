{
 "cells": [
  {
   "cell_type": "code",
   "execution_count": 3,
   "metadata": {},
   "outputs": [
    {
     "name": "stdout",
     "output_type": "stream",
     "text": [
      "The autoreload extension is already loaded. To reload it, use:\n",
      "  %reload_ext autoreload\n"
     ]
    }
   ],
   "source": [
    "%load_ext autoreload\n",
    "%autoreload 2\n",
    "\n",
    "import sys\n",
    "sys.dont_write_bytecode = True"
   ]
  },
  {
   "cell_type": "code",
   "execution_count": 4,
   "metadata": {},
   "outputs": [],
   "source": [
    "#imports\n",
    "import os\n",
    "import yaml\n",
    "import warnings\n",
    "\n",
    "import pandas as pd\n",
    "import mlflow\n",
    "\n",
    "from sklearn.model_selection import train_test_split\n",
    "from sklearn.metrics import f1_score,roc_auc_score\n",
    "from catboost import CatBoostClassifier\n",
    "\n",
    "from callables import process_dataset,find_max_fscore\n",
    "\n",
    "os.environ[\"MLFLOW_S3_ENDPOINT_URL\"] = \"https://hb.bizmrg.com\"\n",
    "os.environ[\"MLFLOW_TRACKING_URI\"] = \"http://89.208.220.90:8000/\"\n",
    "mlflow.set_experiment(\"trading_model_anomaly_criterion\")\n",
    "warnings.filterwarnings('ignore')"
   ]
  },
  {
   "cell_type": "code",
   "execution_count": 5,
   "metadata": {},
   "outputs": [],
   "source": [
    "#params\n",
    "with open(\"params.yml\", 'r') as file:\n",
    "    params = yaml.safe_load(file)\n",
    "\n",
    "root_path = params['root_path']\n",
    "shift = params['shift']\n",
    "anomaly_crtiretion_values = [1.0030, 1.0040, 1.0050]\n",
    "cb_params = params['cb_params']"
   ]
  },
  {
   "cell_type": "code",
   "execution_count": 6,
   "metadata": {},
   "outputs": [],
   "source": [
    "#callables\n",
    "for anomaly_crtiretion in anomaly_crtiretion_values:\n",
    "\n",
    "    mlflow.start_run()\n",
    "\n",
    "    #________________________________________________________________________\n",
    "\n",
    "    #read\n",
    "    df = pd.read_csv(root_path + 'data/features.csv', index_col = 0)\n",
    "\n",
    "    #process\n",
    "    df_event, df_proc = process_dataset(df, shift, anomaly_crtiretion)\n",
    "\n",
    "    #обучающая выборка\n",
    "    data = df_proc.drop(['t_start', 't_end'], axis = 1)\n",
    "\n",
    "    #________________________________________________________________________\n",
    "\n",
    "    #split\n",
    "    train, test = train_test_split(data, test_size = 0.2, random_state = 42, shuffle = False)\n",
    "\n",
    "    x_train = train.drop('target', axis = 1)\n",
    "    y_train = train.target.astype(int)\n",
    "\n",
    "    x_test = test.drop('target', axis = 1)\n",
    "    y_test = test.target.astype(int)\n",
    "\n",
    "    #fit best model\n",
    "    model = CatBoostClassifier(**cb_params)\n",
    "    model.fit(x_train, y_train)\n",
    "\n",
    "    # predict train probabilities\n",
    "    y_train_pred_proba = model.predict_proba(x_train)\n",
    "    y_train_pred_proba = y_train_pred_proba[:, 1]\n",
    "    \n",
    "    # predict test probabilities\n",
    "    y_test_pred_proba = model.predict_proba(x_test)\n",
    "    y_test_pred_proba = y_test_pred_proba[:, 1]\n",
    "\n",
    "    #plot_find_max_fscore\n",
    "    opt_cutoff = find_max_fscore(y_test, y_test_pred_proba)\n",
    "\n",
    "    #calculate metrics\n",
    "    gini_train = 2 * roc_auc_score(y_train, y_train_pred_proba) - 1\n",
    "    gini_test = 2 * roc_auc_score(y_test, y_test_pred_proba) - 1\n",
    "    f_score_train = f1_score(y_train, (y_train_pred_proba > opt_cutoff), pos_label=1, average='binary')\n",
    "    f_score_test  = f1_score(y_test , (y_test_pred_proba  > opt_cutoff), pos_label=1, average='binary')\n",
    "\n",
    "    #________________________________________________________________________\n",
    "\n",
    "    # mlflow log params\n",
    "    mlflow.log_param(\"shift\", shift)\n",
    "    mlflow.log_param(\"anomaly_crtiretion\", anomaly_crtiretion)\n",
    "\n",
    "    # mlflow log metrics\n",
    "    mlflow.log_metric(\"gini_train\", gini_train)\n",
    "    mlflow.log_metric(\"gini_test\", gini_test)\n",
    "    mlflow.log_metric(\"f_score_train\", f_score_train)\n",
    "    mlflow.log_metric(\"f_score_test\", f_score_test)\n",
    "\n",
    "    #________________________________________________________________________\n",
    "\n",
    "    mlflow.end_run()\n",
    "    \n",
    "    print(f'success_run_{anomaly_crtiretion}')"
   ]
  }
 ],
 "metadata": {
  "interpreter": {
   "hash": "7110a528a63985f6b9596e7354dc1878844b94302108c169d129701b7db47e22"
  },
  "kernelspec": {
   "display_name": "Python 3",
   "language": "python",
   "name": "python3"
  },
  "language_info": {
   "codemirror_mode": {
    "name": "ipython",
    "version": 3
   },
   "file_extension": ".py",
   "mimetype": "text/x-python",
   "name": "python",
   "nbconvert_exporter": "python",
   "pygments_lexer": "ipython3",
   "version": "3.8.5"
  }
 },
 "nbformat": 4,
 "nbformat_minor": 4
}
