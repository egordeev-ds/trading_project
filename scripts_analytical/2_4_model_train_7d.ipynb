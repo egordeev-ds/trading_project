{
 "cells": [
  {
   "cell_type": "code",
   "execution_count": 9,
   "metadata": {},
   "outputs": [
    {
     "name": "stdout",
     "output_type": "stream",
     "text": [
      "The autoreload extension is already loaded. To reload it, use:\n",
      "  %reload_ext autoreload\n"
     ]
    }
   ],
   "source": [
    "%load_ext autoreload\n",
    "%autoreload 2\n",
    "\n",
    "import sys\n",
    "sys.dont_write_bytecode = True\n",
    "\n",
    "import warnings\n",
    "warnings.filterwarnings('ignore')"
   ]
  },
  {
   "cell_type": "code",
   "execution_count": 10,
   "metadata": {},
   "outputs": [],
   "source": [
    "#imports\n",
    "import os\n",
    "import yaml\n",
    "import json\n",
    "from datetime import datetime\n",
    "\n",
    "import pandas as pd\n",
    "import numpy as np\n",
    "\n",
    "from sklearn.model_selection import train_test_split\n",
    "from sklearn.metrics import f1_score,roc_auc_score\n",
    "from catboost import CatBoostClassifier\n",
    "\n",
    "from utils import plot_roc_curve\n",
    "from utils import find_max_fscore \n",
    "from utils import plot_confusion_matrix\n",
    "from utils import plot_feature_importnaces"
   ]
  },
  {
   "cell_type": "code",
   "execution_count": 11,
   "metadata": {},
   "outputs": [],
   "source": [
    "#params\n",
    "with open(\"params.yml\", 'r') as file:\n",
    "    params = yaml.safe_load(file)\n",
    "\n",
    "root_path = params['root_path']\n",
    "filepath_input = root_path + 'data/raw_data_7d/' #МЕНЯЕТСЯ\n",
    "\n",
    "feature_cols = ['close_price','n_trades','base_volume','buy_base','vol_per_trade']\n",
    "\n",
    "shift_b = 18\n",
    "shift_f = 7\n",
    "anomaly_crtiretion = 1.0030\n",
    "\n",
    "cb_params = {\n",
    "    'iterations': 300,\n",
    "    'learning_rate': 0.03,\n",
    "    'depth': 5,\n",
    "    'l2_leaf_reg': 2,\n",
    "    'rsm': 0.7,\n",
    "    'verbose': False,\n",
    "    'allow_writing_files': False,\n",
    "    'random_state': 42\n",
    "}"
   ]
  },
  {
   "cell_type": "code",
   "execution_count": 12,
   "metadata": {},
   "outputs": [],
   "source": [
    "###parsing csv - МЕНЯЕТСЯ\n",
    "\n",
    "#list of file\n",
    "files=os.listdir(filepath_input)\n",
    "\n",
    "#read as pd file\n",
    "kline_csv=[]\n",
    "for name in files:\n",
    "    f= pd.read_csv(filepath_input+name, sep = ';')\n",
    "    kline_csv.append(f)\n",
    "df = pd.concat(kline_csv)\n",
    "\n",
    "#drop cols\n",
    "cols_drop = ['symbol', 'interval', 'first_trade_id', 'last_trade_id']\n",
    "df = df.drop(cols_drop, axis = 1)\n",
    "\n",
    "#change cols name\n",
    "new_cols_name = [\n",
    "    'event_time',\n",
    "    't_start',\n",
    "    't_end',\n",
    "    'open_price',\n",
    "    'high_price',\n",
    "    'low_price',\n",
    "    'close_price',\n",
    "    'n_trades',\n",
    "    'is_closed',\n",
    "    'base_volume',\n",
    "    'quote_volume',\n",
    "    'buy_base',\n",
    "    'buy_quote'\n",
    "]\n",
    "df.columns = new_cols_name\n",
    "\n",
    "#change \"is_closed\" values\n",
    "df.is_closed = df.is_closed.replace({'f' : False, 't' : True})\n",
    "\n",
    "#vol_per_trade\n",
    "df['vol_per_trade'] = df['quote_volume'] / df['n_trades']"
   ]
  },
  {
   "cell_type": "code",
   "execution_count": 13,
   "metadata": {},
   "outputs": [],
   "source": [
    "###process\n",
    "\n",
    "#correction_1 - МЕНЯЕТСЯ\n",
    "# df['event_time'] = pd.to_datetime(df['event_time'].apply(\n",
    "#     lambda x: datetime.fromtimestamp(x/1000.0)\n",
    "#     ))\n",
    "df['t_start'] = df['event_time']\n",
    "df['t_end'] = df['event_time'].shift(-1)\n",
    "df = df.dropna()\n",
    "\n",
    "#correction_2\n",
    "df = df.drop_duplicates('event_time', keep = 'first')\n",
    "df = df.sort_values(by='event_time').reset_index(drop = True)\n",
    "df = df.drop('event_time' , axis = 1)\n",
    "df = df.round(2)"
   ]
  },
  {
   "cell_type": "code",
   "execution_count": 14,
   "metadata": {},
   "outputs": [],
   "source": [
    "###generate features\n",
    "\n",
    "#deltas\n",
    "for col in feature_cols:\n",
    "    df[f'{col}_delta'] = df[col].shift(-1) - df[col]    \n",
    "\n",
    "#correction\n",
    "condition = (df['is_closed'] == True)\n",
    "feature_cols_delta = [col + '_delta' for col in feature_cols]\n",
    "for col_1, col_2 in zip(feature_cols,feature_cols_delta):\n",
    "    df[col_2].loc[condition] = (df[col_1].loc[condition].values) + (df[col_2].loc[condition].values)\n",
    "\n",
    "#shift deltas\n",
    "data_temp = pd.DataFrame()\n",
    "for col in feature_cols_delta:\n",
    "    for shift in range(shift_b+1):\n",
    "        #deltas\n",
    "        data_temp[f'{col}_{shift}'] = df[col].shift(shift)\n",
    "        #cumsum deltas\n",
    "        if shift > 1:\n",
    "            data_temp[f'{col}_0_{shift-1}'] = df[col].rolling(shift).sum()\n",
    "df = pd.concat([df.drop(feature_cols_delta, axis = 1), data_temp], axis = 1)\n",
    "df = df.dropna()\n",
    "\n",
    "#target calculation\n",
    "df['anomaly_t_start'] = np.where(\n",
    "    df.close_price > df.open_price,\n",
    "    df.high_price/df.open_price,\n",
    "    df.open_price/df.low_price\n",
    "    )\n",
    "df['anomaly_t_end'] = df['anomaly_t_start'].shift(-shift_f)\n",
    "df['target'] = df['anomaly_t_end'] > anomaly_crtiretion\n",
    "df = df.dropna()"
   ]
  },
  {
   "cell_type": "code",
   "execution_count": 15,
   "metadata": {},
   "outputs": [],
   "source": [
    "###select\n",
    "dt_cols = ['t_start', 't_end']\n",
    "feature_cols = feature_cols\n",
    "delta_cols = [col for col in df.columns if 'delta' in col]\n",
    "\n",
    "df_event = df[dt_cols + feature_cols + ['target']].reset_index(drop = True)\n",
    "df_period = df[dt_cols + delta_cols + ['target']].reset_index(drop = True)\n",
    "df_model = df[delta_cols + ['target']].reset_index(drop = True)"
   ]
  },
  {
   "cell_type": "code",
   "execution_count": 16,
   "metadata": {},
   "outputs": [
    {
     "name": "stderr",
     "output_type": "stream",
     "text": [
      "Custom logger is already specified. Specify more than one logger at same time is not thread safe."
     ]
    },
    {
     "data": {
      "text/html": [
       "<div>\n",
       "<style scoped>\n",
       "    .dataframe tbody tr th:only-of-type {\n",
       "        vertical-align: middle;\n",
       "    }\n",
       "\n",
       "    .dataframe tbody tr th {\n",
       "        vertical-align: top;\n",
       "    }\n",
       "\n",
       "    .dataframe thead th {\n",
       "        text-align: right;\n",
       "    }\n",
       "</style>\n",
       "<table border=\"1\" class=\"dataframe\">\n",
       "  <thead>\n",
       "    <tr style=\"text-align: right;\">\n",
       "      <th></th>\n",
       "      <th>f_score_train</th>\n",
       "      <th>f_score_test</th>\n",
       "    </tr>\n",
       "  </thead>\n",
       "  <tbody>\n",
       "    <tr>\n",
       "      <th>0</th>\n",
       "      <td>57.66</td>\n",
       "      <td>60.58</td>\n",
       "    </tr>\n",
       "  </tbody>\n",
       "</table>\n",
       "</div>"
      ],
      "text/plain": [
       "   f_score_train  f_score_test\n",
       "0          57.66         60.58"
      ]
     },
     "metadata": {},
     "output_type": "display_data"
    }
   ],
   "source": [
    "#split\n",
    "train, test = train_test_split(df_model, test_size = 0.2, random_state = 42, shuffle = False)\n",
    "\n",
    "x_train = train.drop('target', axis = 1)\n",
    "y_train = train.target.astype(int)\n",
    "\n",
    "x_test = test.drop('target', axis = 1)\n",
    "y_test = test.target.astype(int)\n",
    "\n",
    "#fit best model\n",
    "model = CatBoostClassifier(**cb_params)\n",
    "model.fit(x_train, y_train)\n",
    "\n",
    "# predict train probabilities\n",
    "y_train_pred_proba = model.predict_proba(x_train)\n",
    "y_train_pred_proba = y_train_pred_proba[:, 1]\n",
    "\n",
    "# predict test probabilities\n",
    "y_test_pred_proba = model.predict_proba(x_test)\n",
    "y_test_pred_proba = y_test_pred_proba[:, 1]\n",
    "\n",
    "#plot_find_max_fscore\n",
    "opt_cutoff = find_max_fscore(y_test, y_test_pred_proba)\n",
    "\n",
    "#calculate metrics\n",
    "f_score_train = round(100*f1_score(y_train, (y_train_pred_proba > opt_cutoff), pos_label=1, average='binary'),2)\n",
    "f_score_test  = round(100*f1_score(y_test , (y_test_pred_proba  > opt_cutoff), pos_label=1, average='binary'),2)\n",
    "\n",
    "metrics_df = pd.DataFrame({'f_score_train':[f_score_train],\n",
    "                           'f_score_test':[f_score_test]})\n",
    "\n",
    "display(metrics_df)"
   ]
  },
  {
   "cell_type": "code",
   "execution_count": 17,
   "metadata": {},
   "outputs": [
    {
     "data": {
      "text/plain": [
       "0.26"
      ]
     },
     "metadata": {},
     "output_type": "display_data"
    }
   ],
   "source": [
    "display(opt_cutoff)"
   ]
  },
  {
   "cell_type": "code",
   "execution_count": 18,
   "metadata": {},
   "outputs": [
    {
     "data": {
      "image/png": "[encoded data removed]",
      "text/plain": [
       "<Figure size 432x288 with 1 Axes>"
      ]
     },
     "metadata": {
      "needs_background": "light"
     },
     "output_type": "display_data"
    },
    {
     "data": {
      "image/png": "[encoded data removed]",
      "text/plain": [
       "<Figure size 576x360 with 1 Axes>"
      ]
     },
     "metadata": {
      "needs_background": "light"
     },
     "output_type": "display_data"
    },
    {
     "data": {
      "image/png": "[encoded data removed]",
      "text/plain": [
       "<Figure size 432x288 with 1 Axes>"
      ]
     },
     "metadata": {
      "needs_background": "light"
     },
     "output_type": "display_data"
    }
   ],
   "source": [
    "cutoff = opt_cutoff\n",
    "\n",
    "# plot roc curve\n",
    "plot_roc_curve(y_test, y_test_pred_proba)\n",
    "\n",
    "#plot_confusion_matrix\n",
    "plot_confusion_matrix(y_test, y_test_pred_proba, cutoff)\n",
    "\n",
    "#plot_feature_importances\n",
    "plot_feature_importnaces(model,x_train,top = 20)"
   ]
  }
 ],
 "metadata": {
  "interpreter": {
   "hash": "7110a528a63985f6b9596e7354dc1878844b94302108c169d129701b7db47e22"
  },
  "kernelspec": {
   "display_name": "Python 3",
   "language": "python",
   "name": "python3"
  },
  "language_info": {
   "codemirror_mode": {
    "name": "ipython",
    "version": 3
   },
   "file_extension": ".py",
   "mimetype": "text/x-python",
   "name": "python",
   "nbconvert_exporter": "python",
   "pygments_lexer": "ipython3",
   "version": "3.8.5"
  }
 },
 "nbformat": 4,
 "nbformat_minor": 4
}
