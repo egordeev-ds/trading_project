{
 "cells": [
  {
   "cell_type": "code",
   "execution_count": 1,
   "metadata": {
    "scrolled": false
   },
   "outputs": [],
   "source": [
    "%load_ext autoreload\n",
    "%autoreload 2\n",
    "\n",
    "import sys\n",
    "sys.dont_write_bytecode = True"
   ]
  },
  {
   "cell_type": "code",
   "execution_count": 2,
   "metadata": {},
   "outputs": [],
   "source": [
    "#imports\n",
    "import os\n",
    "import yaml\n",
    "import json\n",
    "import warnings\n",
    "from itertools import product\n",
    "\n",
    "import mlflow\n",
    "\n",
    "import pandas as pd\n",
    "from sklearn.model_selection import train_test_split\n",
    "from catboost import CatBoostClassifier\n",
    "from sklearn.metrics import f1_score, recall_score, roc_auc_score\n",
    "import numpy as np\n",
    "from datetime import datetime\n",
    "\n",
    "from callables import parse_json\n",
    "from callables import generate_features\n",
    "from callables import process_features\n",
    "from callables import model_train\n",
    "from utils import plot_roc_curve, plot_confusion_matrix, plot_feature_importnaces, find_max_recall \n",
    "\n",
    "warnings.filterwarnings('ignore')"
   ]
  },
  {
   "cell_type": "code",
   "execution_count": 3,
   "metadata": {},
   "outputs": [],
   "source": [
    "#params\n",
    "with open(\"params.yml\", 'r') as file:\n",
    "    params = yaml.safe_load(file)\n",
    "\n",
    "root_path = params['root_path']\n",
    "filepath_input = root_path + params['filepath_input']\n",
    "model_name = params['model_name']\n",
    "\n",
    "feature_cols = params['feature_cols']\n",
    "\n",
    "# shift_backwards = 1\n",
    "# shift_forward = -1\n",
    "\n",
    "anomaly_crtiretion = params['anomaly_crtiretion']\n",
    "\n",
    "cb_params = params['cb_params']"
   ]
  },
  {
   "cell_type": "code",
   "execution_count": 4,
   "metadata": {
    "scrolled": false
   },
   "outputs": [
    {
     "name": "stderr",
     "output_type": "stream",
     "text": [
      "2022/06/17 13:58:36 INFO mlflow.tracking.fluent: Experiment with name 'trading_model_b_shift_f_shift_recall' does not exist. Creating a new experiment.\n"
     ]
    },
    {
     "data": {
      "text/plain": [
       "<Experiment: artifact_location='./mlruns/1', experiment_id='1', lifecycle_stage='active', name='trading_model_b_shift_f_shift_recall', tags={}>"
      ]
     },
     "execution_count": 4,
     "metadata": {},
     "output_type": "execute_result"
    }
   ],
   "source": [
    "mlflow.set_tracking_uri('http://127.0.0.1:5000')\n",
    "mlflow.set_experiment(\"trading_model_b_shift_f_shift_recall_v2\")"
   ]
  },
  {
   "cell_type": "code",
   "execution_count": 5,
   "metadata": {},
   "outputs": [],
   "source": [
    "shift_backwards_values = list(range(1,51))\n",
    "shift_forward_values = list(range(1,51))"
   ]
  },
  {
   "cell_type": "code",
   "execution_count": null,
   "metadata": {},
   "outputs": [
    {
     "name": "stdout",
     "output_type": "stream",
     "text": [
      "success_run_b_1_f_1\n",
      "success_run_b_1_f_2\n",
      "success_run_b_1_f_3\n",
      "success_run_b_1_f_4\n",
      "success_run_b_1_f_5\n",
      "success_run_b_1_f_6\n",
      "success_run_b_1_f_7\n",
      "success_run_b_1_f_8\n",
      "success_run_b_1_f_9\n",
      "success_run_b_1_f_10\n",
      "success_run_b_1_f_11\n",
      "success_run_b_1_f_12\n",
      "success_run_b_1_f_13\n",
      "success_run_b_1_f_14\n",
      "success_run_b_1_f_15\n",
      "success_run_b_1_f_16\n",
      "success_run_b_1_f_17\n",
      "success_run_b_1_f_18\n",
      "success_run_b_1_f_19\n",
      "success_run_b_1_f_20\n",
      "success_run_b_1_f_21\n",
      "success_run_b_1_f_22\n",
      "success_run_b_1_f_23\n",
      "success_run_b_1_f_24\n",
      "success_run_b_1_f_25\n",
      "success_run_b_1_f_26\n",
      "success_run_b_1_f_27\n",
      "success_run_b_1_f_28\n",
      "success_run_b_1_f_29\n",
      "success_run_b_1_f_30\n",
      "success_run_b_1_f_31\n",
      "success_run_b_1_f_32\n",
      "success_run_b_1_f_33\n",
      "success_run_b_1_f_34\n",
      "success_run_b_1_f_35\n",
      "success_run_b_1_f_36\n",
      "success_run_b_1_f_37\n",
      "success_run_b_1_f_38\n",
      "success_run_b_1_f_39\n",
      "success_run_b_1_f_40\n",
      "success_run_b_1_f_41\n",
      "success_run_b_1_f_42\n",
      "success_run_b_1_f_43\n",
      "success_run_b_1_f_44\n",
      "success_run_b_1_f_45\n",
      "success_run_b_1_f_46\n",
      "success_run_b_1_f_47\n",
      "success_run_b_1_f_48\n",
      "success_run_b_1_f_49\n",
      "success_run_b_1_f_50\n",
      "success_run_b_2_f_1\n",
      "success_run_b_2_f_2\n",
      "success_run_b_2_f_3\n",
      "success_run_b_2_f_4\n",
      "success_run_b_2_f_5\n",
      "success_run_b_2_f_6\n",
      "success_run_b_2_f_7\n",
      "success_run_b_2_f_8\n",
      "success_run_b_2_f_9\n",
      "success_run_b_2_f_10\n",
      "success_run_b_2_f_11\n",
      "success_run_b_2_f_12\n",
      "success_run_b_2_f_13\n",
      "success_run_b_2_f_14\n",
      "success_run_b_2_f_15\n",
      "success_run_b_2_f_16\n",
      "success_run_b_2_f_17\n",
      "success_run_b_2_f_18\n",
      "success_run_b_2_f_19\n",
      "success_run_b_2_f_20\n",
      "success_run_b_2_f_21\n",
      "success_run_b_2_f_22\n",
      "success_run_b_2_f_23\n",
      "success_run_b_2_f_24\n",
      "success_run_b_2_f_25\n",
      "success_run_b_2_f_26\n"
     ]
    }
   ],
   "source": [
    "for shift_backwrd in shift_backwards_values:\n",
    "        \n",
    "    for shift_frwrd in shift_forward_values:\n",
    "        \n",
    "        #mlflow_start\n",
    "        mlflow.start_run(run_name = f'b_{shift_backwrd}_f_{shift_frwrd}')\n",
    "        \n",
    "        #read\n",
    "        df = parse_json(filepath_input)\n",
    "        df = generate_features(\n",
    "            df, feature_cols,\n",
    "            shift_backwrd, shift_frwrd, \n",
    "            anomaly_crtiretion\n",
    "        )\n",
    "        df_event, df_period, df_model = process_features(df, feature_cols)\n",
    "\n",
    "        #split\n",
    "        train, test = train_test_split(df_model, test_size = 0.2, random_state = 42, shuffle = False)\n",
    "\n",
    "        x_train = train.drop('target', axis = 1)\n",
    "        y_train = train.target.astype(int)\n",
    "\n",
    "        x_test = test.drop('target', axis = 1)\n",
    "        y_test = test.target.astype(int)\n",
    "\n",
    "        #fit best model\n",
    "        model = CatBoostClassifier(**cb_params)\n",
    "        model.fit(x_train, y_train)\n",
    "\n",
    "        # predict train probabilities\n",
    "        y_train_pred_proba = model.predict_proba(x_train)\n",
    "        y_train_pred_proba = y_train_pred_proba[:, 1]\n",
    "\n",
    "        # predict test probabilities\n",
    "        y_test_pred_proba = model.predict_proba(x_test)\n",
    "        y_test_pred_proba = y_test_pred_proba[:, 1]\n",
    "\n",
    "        #opt_cutoff\n",
    "        opt_cutoff = find_max_recall(y_test, y_test_pred_proba)\n",
    "\n",
    "        #calculate metrics\n",
    "        recall_score_train = recall_score(y_train, (y_train_pred_proba > opt_cutoff), pos_label=1, average='binary')\n",
    "        recall_score_test  = recall_score(y_test , (y_test_pred_proba  > opt_cutoff), pos_label=1, average='binary')\n",
    "\n",
    "        #________________________________________________________________________\n",
    "\n",
    "        # mlflow log params\n",
    "\n",
    "        mlflow.log_param(\"shift_bckwrd\", shift_backwrd)\n",
    "        mlflow.log_param(\"shift_frwrd\", shift_frwrd)\n",
    "        mlflow.log_param(\"anomaly_crtiretion\", anomaly_crtiretion)\n",
    "\n",
    "        # mlflow log metrics\n",
    "        mlflow.log_metric(\"recall_score_train\", recall_score_train)\n",
    "        mlflow.log_metric(\"recall_score_test\", recall_score_test)\n",
    "\n",
    "       #________________________________________________________________________\n",
    "    \n",
    "        #mlflow_end\n",
    "        mlflow.end_run()\n",
    "        \n",
    "        print(f'success_run_b_{shift_backwrd}_f_{shift_frwrd}')"
   ]
  }
 ],
 "metadata": {
  "kernelspec": {
   "display_name": "Python 3",
   "language": "python",
   "name": "python3"
  },
  "language_info": {
   "codemirror_mode": {
    "name": "ipython",
    "version": 3
   },
   "file_extension": ".py",
   "mimetype": "text/x-python",
   "name": "python",
   "nbconvert_exporter": "python",
   "pygments_lexer": "ipython3",
   "version": "3.8.5"
  }
 },
 "nbformat": 4,
 "nbformat_minor": 4
}
