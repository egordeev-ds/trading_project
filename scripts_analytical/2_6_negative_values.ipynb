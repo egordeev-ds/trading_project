{
 "cells": [
  {
   "cell_type": "code",
   "execution_count": 1,
   "metadata": {},
   "outputs": [],
   "source": [
    "#imports\n",
    "import os\n",
    "import yaml\n",
    "import json\n",
    "\n",
    "import pandas as pd\n",
    "import numpy as np\n",
    "\n",
    "import warnings\n",
    "warnings.filterwarnings('ignore')"
   ]
  },
  {
   "cell_type": "code",
   "execution_count": 2,
   "metadata": {},
   "outputs": [],
   "source": [
    "#params\n",
    "dt_cols = ['t_start', 't_end']\n",
    "price_cols = ['open_price','close_price','low_price','high_price']\n",
    "feature_cols = ['base_volume','buy_base','n_trades']\n",
    "\n",
    "shift_b = 18\n",
    "shift_f = 7\n",
    "\n",
    "anomaly_crtiretion = 1.0050"
   ]
  },
  {
   "cell_type": "code",
   "execution_count": 3,
   "metadata": {},
   "outputs": [],
   "source": [
    "#read\n",
    "df = pd.read_excel('dataset_before_features.xlsx', index_col =0)"
   ]
  },
  {
   "cell_type": "code",
   "execution_count": 4,
   "metadata": {},
   "outputs": [],
   "source": [
    "#deltas\n",
    "for col in feature_cols:\n",
    "    df[f'{col}_delta'] = df[col].shift(-1) - df[col]\n",
    "condition = (df['is_closed'] == True)\n",
    "delta_cols = [col + '_delta' for col in feature_cols]\n",
    "for col_1, col_2 in zip(feature_cols,delta_cols):\n",
    "    df[col_2].loc[condition] = (df[col_1].loc[condition].values) + (df[col_2].loc[condition].values)\n",
    "df = df.drop(axis=0, index = [1774,79063])\n",
    "df = df.drop('is_closed', axis = 1)\n",
    "\n",
    "#vol_per_trade\n",
    "df['vol_per_trade_delta'] = df['base_volume_delta'] / df['n_trades_delta']\n",
    "delta_cols.append('vol_per_trade_delta')\n",
    "\n",
    "#shift deltas\n",
    "data_temp = pd.DataFrame()\n",
    "for col in delta_cols:\n",
    "    for shift in range(1,shift_b+1):\n",
    "        data_temp[f'{col}_{shift}'] = df[col].shift(shift)\n",
    "df = pd.concat([df, data_temp], axis = 1)\n",
    "\n",
    "#shift cumsum deltas\n",
    "data_temp = pd.DataFrame()\n",
    "for col in delta_cols:\n",
    "    for shift in range(2,shift_b+1):\n",
    "        data_temp[f'{col}_0_{shift-1}'] = df[col].rolling(shift).sum()\n",
    "df = pd.concat([df, data_temp], axis = 1)\n",
    "\n",
    "#target\n",
    "df['anomaly_t_start'] = np.where(\n",
    "    df.close_price > df.open_price,\n",
    "    df.high_price/df.open_price,\n",
    "    df.open_price/df.low_price\n",
    "    )\n",
    "df['anomaly_t_end'] = df['anomaly_t_start'].shift(-shift_f)\n",
    "df['target'] = df['anomaly_t_end'] > anomaly_crtiretion"
   ]
  },
  {
   "cell_type": "code",
   "execution_count": 5,
   "metadata": {},
   "outputs": [],
   "source": [
    "###prepare\n",
    "df = df.dropna()\n",
    "\n",
    "###select\n",
    "delta_cols = df.drop(dt_cols+price_cols+feature_cols, axis = 1).columns.to_list()\n",
    "df_event = df[dt_cols + price_cols + ['target']].reset_index(drop = True)\n",
    "df_model = df[delta_cols + ['target']].reset_index(drop = True)"
   ]
  }
 ],
 "metadata": {
  "interpreter": {
   "hash": "7110a528a63985f6b9596e7354dc1878844b94302108c169d129701b7db47e22"
  },
  "kernelspec": {
   "display_name": "Python 3",
   "language": "python",
   "name": "python3"
  },
  "language_info": {
   "codemirror_mode": {
    "name": "ipython",
    "version": 3
   },
   "file_extension": ".py",
   "mimetype": "text/x-python",
   "name": "python",
   "nbconvert_exporter": "python",
   "pygments_lexer": "ipython3",
   "version": "3.8.5"
  }
 },
 "nbformat": 4,
 "nbformat_minor": 4
}
