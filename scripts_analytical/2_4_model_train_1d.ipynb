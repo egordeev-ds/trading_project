{
 "cells": [
  {
   "cell_type": "code",
   "execution_count": 6,
   "metadata": {
    "scrolled": false
   },
   "outputs": [
    {
     "name": "stdout",
     "output_type": "stream",
     "text": [
      "The autoreload extension is already loaded. To reload it, use:\n",
      "  %reload_ext autoreload\n"
     ]
    }
   ],
   "source": [
    "%load_ext autoreload\n",
    "%autoreload 2\n",
    "\n",
    "import sys\n",
    "sys.dont_write_bytecode = True\n",
    "\n",
    "import warnings\n",
    "warnings.filterwarnings('ignore')"
   ]
  },
  {
   "cell_type": "code",
   "execution_count": 7,
   "metadata": {},
   "outputs": [],
   "source": [
    "#imports\n",
    "import os\n",
    "import yaml\n",
    "import json\n",
    "from datetime import datetime\n",
    "\n",
    "import pandas as pd\n",
    "import numpy as np\n",
    "\n",
    "from sklearn.model_selection import train_test_split\n",
    "from sklearn.metrics import f1_score,roc_auc_score\n",
    "from catboost import CatBoostClassifier\n",
    "\n",
    "from utils import plot_roc_curve\n",
    "from utils import find_max_fscore \n",
    "from utils import plot_confusion_matrix\n",
    "from utils import plot_feature_importnaces\n",
    "from utils import plot_candletick_anomaly"
   ]
  },
  {
   "cell_type": "code",
   "execution_count": 8,
   "metadata": {},
   "outputs": [],
   "source": [
    "#params\n",
    "with open(\"params.yml\", 'r') as file:\n",
    "    params = yaml.safe_load(file)\n",
    "\n",
    "root_path = params['root_path']\n",
    "filepath_input = root_path + 'data/raw_data/'\n",
    "\n",
    "feature_cols = ['close_price','n_trades','base_volume','buy_base']\n",
    "\n",
    "shift_b = 18\n",
    "shift_f = 7\n",
    "anomaly_crtiretion = 1.0050\n",
    "\n",
    "cb_params = {\n",
    "    'iterations': 300,\n",
    "    'learning_rate': 0.03,\n",
    "    'depth': 5,\n",
    "    'l2_leaf_reg': 2,\n",
    "    'rsm': 0.7,\n",
    "    'verbose': False,\n",
    "    'allow_writing_files': False,\n",
    "    'random_state': 42\n",
    "}"
   ]
  },
  {
   "cell_type": "code",
   "execution_count": 9,
   "metadata": {},
   "outputs": [],
   "source": [
    "###parsing json\n",
    "\n",
    "files=os.listdir(filepath_input)\n",
    "\n",
    "kline_js=[]\n",
    "for name in files:\n",
    "    f=open(filepath_input+name)\n",
    "    js=json.load(f)\n",
    "    for i in range(len(js)):\n",
    "        kline_js.append(js[i])\n",
    "\n",
    "E=[]\n",
    "t_start=[]\n",
    "t_end=[]\n",
    "opens=[]\n",
    "closes=[]\n",
    "v=[]\n",
    "n=[]\n",
    "h=[]\n",
    "l=[]\n",
    "x=[]\n",
    "q=[]\n",
    "V=[]\n",
    "Q=[]\n",
    "\n",
    "for js_i in kline_js:\n",
    "\n",
    "    if \"stream\" in js_i[\"r\"] and js_i[\"r\"][\"stream\"] == \"btcusdt@kline_1m\":\n",
    "\n",
    "        try:\n",
    "            E.append(js_i['r']['data']['E'])\n",
    "            t_start.append(js_i['r']['data']['k']['t'])\n",
    "            t_end.append(js_i['r']['data']['k']['T'])\n",
    "            opens.append(float(js_i['r']['data']['k']['o']))\n",
    "            closes.append(float(js_i['r']['data']['k']['c']))\n",
    "            l.append(float(js_i['r']['data']['k']['l']))\n",
    "            h.append(float(js_i['r']['data']['k']['h']))\n",
    "            v.append(float(js_i['r']['data']['k']['v']))\n",
    "            q.append(float(js_i['r']['data']['k']['q']))\n",
    "            V.append(float(js_i['r']['data']['k']['V']))\n",
    "            Q.append(float(js_i['r']['data']['k']['Q']))\n",
    "            n.append(js_i['r']['data']['k']['n'])\n",
    "            x.append(js_i['r']['data']['k']['x'])\n",
    "            \n",
    "        except:\n",
    "            print(js_i)\n",
    "\n",
    "d = {\n",
    "    'event_time': E,\n",
    "    't_start':t_start, \n",
    "    't_end':t_end, \n",
    "    'open_price':opens, \n",
    "    'close_price':closes,\n",
    "    'low_price':l, \n",
    "    'high_price':h,\n",
    "    'base_volume':v,\n",
    "    'quote_volume':q, \n",
    "    'buy_base':V, \n",
    "    'buy_quote':Q, \n",
    "    'n_trades':n, \n",
    "    'is_closed':x,\n",
    "    }\n",
    "\n",
    "df = pd.DataFrame(data=d)"
   ]
  },
  {
   "cell_type": "code",
   "execution_count": 10,
   "metadata": {},
   "outputs": [],
   "source": [
    "###process\n",
    "\n",
    "#correction_1\n",
    "df['t_start'] = df['event_time']\n",
    "df['t_end'] = df['event_time'].shift(-1)\n",
    "df = df.dropna()\n",
    "\n",
    "#correction_2\n",
    "df = df.drop_duplicates('event_time', keep = 'first')\n",
    "df = df.sort_values(by='event_time').reset_index(drop = True)\n",
    "df = df.drop('event_time' , axis = 1)\n",
    "df = df.dropna()\n",
    "\n",
    "#correction_3\n",
    "df['buy_base'] = df['buy_base']*1000000\n",
    "df = df.drop(['quote_volume','buy_quote'], axis = 1)"
   ]
  },
  {
   "cell_type": "code",
   "execution_count": 6,
   "metadata": {},
   "outputs": [],
   "source": [
    "###generate features\n",
    "\n",
    "#deltas\n",
    "for col in feature_cols:\n",
    "    df[f'{col}_delta'] = df[col].shift(-1) - df[col]\n",
    "    \n",
    "#correction_1 - отрицательные приросты из-за конца свечи\n",
    "condition = (df['is_closed'] == True)\n",
    "feature_cols_delta = [col + '_delta' for col in feature_cols]\n",
    "for col_1, col_2 in zip(feature_cols,feature_cols_delta):\n",
    "    df[col_2].loc[condition] = (df[col_1].loc[condition].values) + (df[col_2].loc[condition].values)\n",
    "\n",
    "#correction_2 - отрицателные приросты из-за пропусков в датах \n",
    "cnd_2 = df['n_trades_delta'] < 0\n",
    "df = df.drop(axis=0, index = df.loc[cnd_2].index)\n",
    "\n",
    "#vol_per_trade\n",
    "df['vol_per_trade'] = df['base_volume_delta'] / df['n_trades_delta']\n",
    "\n",
    "#shift deltas\n",
    "data_temp = pd.DataFrame()\n",
    "for col in feature_cols_delta:\n",
    "    for shift in range(shift_b+1):\n",
    "        #deltas\n",
    "        data_temp[f'{col}_{shift}'] = df[col].shift(shift)\n",
    "        #cumsum deltas\n",
    "        if shift > 1:\n",
    "            data_temp[f'{col}_0_{shift-1}'] = df[col].rolling(shift).sum()\n",
    "df = pd.concat([df.drop(feature_cols_delta, axis = 1), data_temp], axis = 1)\n",
    "df = df.dropna()\n",
    "\n",
    "#target\n",
    "df['anomaly_t_start'] = np.where(\n",
    "    df.close_price > df.open_price,\n",
    "    df.high_price/df.open_price,\n",
    "    df.open_price/df.low_price\n",
    "    )\n",
    "df['anomaly_t_end'] = df['anomaly_t_start'].shift(-shift_f)\n",
    "df['target'] = df['anomaly_t_end'] > anomaly_crtiretion\n",
    "df = df.dropna()"
   ]
  },
  {
   "cell_type": "code",
   "execution_count": 7,
   "metadata": {},
   "outputs": [],
   "source": [
    "###select\n",
    "dt_cols = ['t_start', 't_end']\n",
    "price_cols = ['open_price','close_price','low_price','high_price']\n",
    "feature_cols = feature_cols\n",
    "delta_cols = [col for col in df.columns if 'delta' in col]\n",
    "\n",
    "df_event = df[dt_cols + price_cols + ['target']].reset_index(drop = True)\n",
    "df_period = df[dt_cols + delta_cols + ['target']].reset_index(drop = True)\n",
    "df_model = df[delta_cols + ['target']].reset_index(drop = True)"
   ]
  },
  {
   "cell_type": "code",
   "execution_count": 8,
   "metadata": {},
   "outputs": [
    {
     "data": {
      "text/html": [
       "<div>\n",
       "<style scoped>\n",
       "    .dataframe tbody tr th:only-of-type {\n",
       "        vertical-align: middle;\n",
       "    }\n",
       "\n",
       "    .dataframe tbody tr th {\n",
       "        vertical-align: top;\n",
       "    }\n",
       "\n",
       "    .dataframe thead th {\n",
       "        text-align: right;\n",
       "    }\n",
       "</style>\n",
       "<table border=\"1\" class=\"dataframe\">\n",
       "  <thead>\n",
       "    <tr style=\"text-align: right;\">\n",
       "      <th></th>\n",
       "      <th>f_score_train</th>\n",
       "      <th>f_score_test</th>\n",
       "    </tr>\n",
       "  </thead>\n",
       "  <tbody>\n",
       "    <tr>\n",
       "      <th>0</th>\n",
       "      <td>53.97</td>\n",
       "      <td>43.48</td>\n",
       "    </tr>\n",
       "  </tbody>\n",
       "</table>\n",
       "</div>"
      ],
      "text/plain": [
       "   f_score_train  f_score_test\n",
       "0          53.97         43.48"
      ]
     },
     "metadata": {},
     "output_type": "display_data"
    }
   ],
   "source": [
    "#split\n",
    "train, test = train_test_split(df_model, test_size = 0.2, random_state = 42, shuffle = False)\n",
    "\n",
    "x_train = train.drop('target', axis = 1)\n",
    "y_train = train.target.astype(int)\n",
    "\n",
    "x_test = test.drop('target', axis = 1)\n",
    "y_test = test.target.astype(int)\n",
    "\n",
    "#fit best model\n",
    "model = CatBoostClassifier(**cb_params)\n",
    "model.fit(x_train, y_train)\n",
    "\n",
    "# predict train probabilities\n",
    "y_train_pred_proba = model.predict_proba(x_train)\n",
    "y_train_pred_proba = y_train_pred_proba[:, 1]\n",
    "\n",
    "# predict test probabilities\n",
    "y_test_pred_proba = model.predict_proba(x_test)\n",
    "y_test_pred_proba = y_test_pred_proba[:, 1]\n",
    "\n",
    "#plot_find_max_fscore\n",
    "opt_cutoff = find_max_fscore(y_test, y_test_pred_proba)\n",
    "\n",
    "#calculate metrics\n",
    "f_score_train = round(100*f1_score(y_train, (y_train_pred_proba > opt_cutoff), pos_label=1, average='binary'),2)\n",
    "f_score_test  = round(100*f1_score(y_test , (y_test_pred_proba  > opt_cutoff), pos_label=1, average='binary'),2)\n",
    "\n",
    "metrics_df = pd.DataFrame({'f_score_train':[f_score_train],\n",
    "                           'f_score_test':[f_score_test]})\n",
    "\n",
    "display(metrics_df)\n"
   ]
  },
  {
   "cell_type": "code",
   "execution_count": 9,
   "metadata": {
    "scrolled": false
   },
   "outputs": [
    {
     "data": {
      "image/png": "[encoded data removed]",
      "text/plain": [
       "<Figure size 432x288 with 1 Axes>"
      ]
     },
     "metadata": {
      "needs_background": "light"
     },
     "output_type": "display_data"
    },
    {
     "data": {
      "image/png": "[encoded data removed]",
      "text/plain": [
       "<Figure size 576x360 with 1 Axes>"
      ]
     },
     "metadata": {
      "needs_background": "light"
     },
     "output_type": "display_data"
    },
    {
     "data": {
      "image/png": "[encoded data removed]",
      "text/plain": [
       "<Figure size 432x288 with 1 Axes>"
      ]
     },
     "metadata": {
      "needs_background": "light"
     },
     "output_type": "display_data"
    }
   ],
   "source": [
    "# plot roc curve\n",
    "plot_roc_curve(y_test, y_test_pred_proba)\n",
    "\n",
    "#plot_confusion_matrix\n",
    "plot_confusion_matrix(y_test, y_test_pred_proba, opt_cutoff)\n",
    "\n",
    "#plot_feature_importances\n",
    "plot_feature_importnaces(model,x_train, top = 20)"
   ]
  },
  {
   "cell_type": "code",
   "execution_count": 57,
   "metadata": {},
   "outputs": [],
   "source": [
    "# df_check = df_event[test.index[0]:]\n",
    "# df_check = df_check.drop('target', axis = 1)\n",
    "\n",
    "# df_check['true'] = y_test\n",
    "# df_check['true'] = df_check['true'].astype(bool)\n",
    "\n",
    "# df_check['predicted'] = (y_test_pred_proba  > opt_cutoff)\n",
    "# df_check['predicted'] = df_check['predicted'].astype(bool)\n",
    "\n",
    "# import plotly.graph_objects as go\n",
    "# import plotly.express as px\n",
    "# from plotly.subplots import make_subplots\n",
    "\n",
    "# def plot_candletick_anomaly(df):\n",
    "    \n",
    "#     fig = make_subplots()\n",
    "    \n",
    "#     fig.add_scatter(\n",
    "#         x = df[df['predicted'] == True]['t_start'],\n",
    "#         y = df[df['predicted'] == True]['open_price'], mode = 'markers',\n",
    "#         marker=dict(size=5, color=\"blue\")\n",
    "#     )\n",
    "    \n",
    "#     fig.add_scatter(\n",
    "#         x = df[df['predicted'] == True]['t_start'],\n",
    "#         y = df[df['predicted'] == True]['close_price'], mode = 'markers',\n",
    "#         marker=dict(size=5, color=\"MediumPurple\")\n",
    "#     )\n",
    "\n",
    "#     fig.add_trace(\n",
    "#         go.Candlestick(\n",
    "#             x=df['t_start'],\n",
    "#             open=df['open_price'],\n",
    "#             high=df['high_price'],\n",
    "#             low=df['low_price'],\n",
    "#             close=df['close_price']\n",
    "#         ))\n",
    "    \n",
    "#     fig.show()\n",
    "    \n",
    "#     fig.write_image('candlestick.png')\n",
    "    \n",
    "# plot_candletick_anomaly(df_check)"
   ]
  }
 ],
 "metadata": {
  "interpreter": {
   "hash": "7110a528a63985f6b9596e7354dc1878844b94302108c169d129701b7db47e22"
  },
  "kernelspec": {
   "display_name": "Python 3",
   "language": "python",
   "name": "python3"
  },
  "language_info": {
   "codemirror_mode": {
    "name": "ipython",
    "version": 3
   },
   "file_extension": ".py",
   "mimetype": "text/x-python",
   "name": "python",
   "nbconvert_exporter": "python",
   "pygments_lexer": "ipython3",
   "version": "3.8.5"
  }
 },
 "nbformat": 4,
 "nbformat_minor": 4
}
